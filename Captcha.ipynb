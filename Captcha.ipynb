{
 "cells": [
  {
   "cell_type": "code",
   "execution_count": 1,
   "id": "7a04aad8-f4bb-47eb-9494-e118d9818bc8",
   "metadata": {},
   "outputs": [
    {
     "name": "stdout",
     "output_type": "stream",
     "text": [
      "Requirement already satisfied: captcha in c:\\users\\khushi\\appdata\\local\\programs\\python\\python311\\lib\\site-packages (0.5.0)Note: you may need to restart the kernel to use updated packages.\n",
      "\n",
      "Requirement already satisfied: pillow in c:\\users\\khushi\\appdata\\local\\programs\\python\\python311\\lib\\site-packages (9.5.0)\n",
      "Requirement already satisfied: opencv-python in c:\\users\\khushi\\appdata\\local\\programs\\python\\python311\\lib\\site-packages (4.8.0.76)\n",
      "Requirement already satisfied: tesseract in c:\\users\\khushi\\appdata\\local\\programs\\python\\python311\\lib\\site-packages (0.1.3)\n",
      "Requirement already satisfied: pytesseract in c:\\users\\khushi\\appdata\\local\\programs\\python\\python311\\lib\\site-packages (0.3.10)\n",
      "Requirement already satisfied: tk in c:\\users\\khushi\\appdata\\local\\programs\\python\\python311\\lib\\site-packages (0.1.0)\n",
      "Requirement already satisfied: numpy>=1.21.2 in c:\\users\\khushi\\appdata\\local\\programs\\python\\python311\\lib\\site-packages (from opencv-python) (1.24.3)\n",
      "Requirement already satisfied: packaging>=21.3 in c:\\users\\khushi\\appdata\\local\\programs\\python\\python311\\lib\\site-packages (from pytesseract) (23.1)\n"
     ]
    }
   ],
   "source": [
    "pip install captcha pillow opencv-python tesseract pytesseract tk"
   ]
  },
  {
   "cell_type": "markdown",
   "id": "3f6c5210-27f6-42c7-b0ba-8559ad63a28c",
   "metadata": {},
   "source": [
    "## CAPTCHA GENERATOR "
   ]
  },
  {
   "cell_type": "code",
   "execution_count": 2,
   "id": "d1d7d164-0c67-4227-a5a0-e16fdb34be2d",
   "metadata": {},
   "outputs": [],
   "source": [
    "import os\n",
    "import random\n",
    "import string\n",
    "import tkinter as tk\n",
    "from captcha.image import ImageCaptcha\n",
    "from PIL import Image, ImageTk\n",
    "\n",
    "class CaptchaGeneratorGUI:\n",
    "    def __init__(self, root):\n",
    "        self.root = root\n",
    "        self.root.title(\"CAPTCHA Generator\")\n",
    "\n",
    "        self.label = tk.Label(root, text=\"CAPTCHA Generator\", font=(\"Helvetica\", 16))\n",
    "        self.label.pack(pady=10)\n",
    "\n",
    "        self.custom_text_entry = tk.Entry(root, width=30)\n",
    "        self.custom_text_entry.pack(pady=5)\n",
    "\n",
    "        self.generate_button = tk.Button(root, text=\"Generate CAPTCHA\", command=self.generate_captcha)\n",
    "        self.generate_button.pack()\n",
    "\n",
    "        self.canvas = tk.Canvas(root, width=280, height=90)\n",
    "        self.canvas.pack()\n",
    "\n",
    "    def generate_captcha(self):\n",
    "        custom_text = self.custom_text_entry.get().strip()\n",
    "        if not custom_text:\n",
    "            captcha_length = 5\n",
    "            custom_text = self.generate_random_string(captcha_length)\n",
    "        \n",
    "        image = ImageCaptcha(width=280, height=90)\n",
    "        data = image.generate(custom_text)\n",
    "        \n",
    "        if not os.path.exists(\"captchas\"):\n",
    "            os.makedirs(\"captchas\")\n",
    "\n",
    "        image_path = os.path.join(\"captchas\", f\"{custom_text}.png\")\n",
    "        image.write(custom_text, image_path)\n",
    "\n",
    "        captcha_image = Image.open(image_path)\n",
    "        captcha_image.thumbnail((280, 90))\n",
    "        self.photo = ImageTk.PhotoImage(captcha_image)\n",
    "        self.canvas.create_image(0, 0, anchor=tk.NW, image=self.photo)\n",
    "\n",
    "    def generate_random_string(self, length):\n",
    "        characters = string.ascii_letters + string.digits\n",
    "        return ''.join(random.choice(characters) for _ in range(length))\n",
    "\n",
    "if __name__ == \"__main__\":\n",
    "    root = tk.Tk()\n",
    "    app = CaptchaGeneratorGUI(root)\n",
    "    root.mainloop()"
   ]
  },
  {
   "cell_type": "markdown",
   "id": "46c563c0-db45-4cf5-aea9-5adc57608695",
   "metadata": {},
   "source": [
    "## CAPTCHA DECODER"
   ]
  },
  {
   "cell_type": "code",
   "execution_count": 3,
   "id": "209360f0-8d65-4421-9926-f17ce6e778dc",
   "metadata": {},
   "outputs": [],
   "source": [
    "import cv2\n",
    "import numpy as np\n",
    "import pytesseract\n",
    "import tkinter as tk\n",
    "from tkinter import filedialog\n",
    "from PIL import Image, ImageTk\n",
    "\n",
    "pytesseract.pytesseract.tesseract_cmd = 'C:\\\\Program Files (x86)\\\\Tesseract-OCR\\\\tesseract.exe'\n",
    "\n",
    "class CaptchaDecoderGUI:\n",
    "    def __init__(self, root):\n",
    "        self.root = root\n",
    "        self.root.title(\"CAPTCHA Decoder\")\n",
    "\n",
    "        self.label = tk.Label(root, text=\"CAPTCHA Decoder\", font=(\"Helvetica\", 16))\n",
    "        self.label.pack(pady=10)\n",
    "\n",
    "        self.load_button = tk.Button(root, text=\"Load Image\", command=self.load_image)\n",
    "        self.load_button.pack()\n",
    "\n",
    "        self.canvas = tk.Canvas(root, width=400, height=400)\n",
    "        self.canvas.pack()\n",
    "\n",
    "        self.decode_button = tk.Button(root, text=\"Decode\", command=self.decode_captcha)\n",
    "        self.decode_button.pack()\n",
    "\n",
    "        self.result_label = tk.Label(root, text=\"\", font=(\"Helvetica\", 12))\n",
    "        self.result_label.pack(pady=10)\n",
    "\n",
    "        self.image = None\n",
    "\n",
    "    def load_image(self):\n",
    "        file_path = filedialog.askopenfilename()\n",
    "        if file_path:\n",
    "            self.image = Image.open(file_path)\n",
    "            self.image.thumbnail((400, 400))\n",
    "            self.photo = ImageTk.PhotoImage(self.image)\n",
    "            self.canvas.create_image(0, 0, anchor=tk.NW, image=self.photo)\n",
    "            self.result_label.config(text=\"\")\n",
    "    \n",
    "    def decode_captcha(self):\n",
    "        if self.image is not None:\n",
    "            # Convert PIL image to OpenCV format\n",
    "            cv_image = cv2.cvtColor(np.array(self.image), cv2.COLOR_RGB2BGR)\n",
    "            # Apply preprocessing steps\n",
    "            gray = cv2.cvtColor(cv_image, cv2.COLOR_BGR2GRAY)\n",
    "            closed = cv2.morphologyEx(gray, cv2.MORPH_CLOSE, None)\n",
    "            _, thresholded = cv2.threshold(closed, 0, 255, cv2.THRESH_BINARY | cv2.THRESH_OTSU)\n",
    "            # Perform OCR\n",
    "            captcha_text = pytesseract.image_to_string(thresholded)\n",
    "            self.result_label.config(text=\"Captcha Text: \" + captcha_text)\n",
    "\n",
    "\n",
    "if __name__ == \"__main__\":\n",
    "    root = tk.Tk()\n",
    "    app = CaptchaDecoderGUI(root)\n",
    "    root.mainloop()"
   ]
  }
 ],
 "metadata": {
  "kernelspec": {
   "display_name": "Python 3 (ipykernel)",
   "language": "python",
   "name": "python3"
  },
  "language_info": {
   "codemirror_mode": {
    "name": "ipython",
    "version": 3
   },
   "file_extension": ".py",
   "mimetype": "text/x-python",
   "name": "python",
   "nbconvert_exporter": "python",
   "pygments_lexer": "ipython3",
   "version": "3.11.4"
  }
 },
 "nbformat": 4,
 "nbformat_minor": 5
}
