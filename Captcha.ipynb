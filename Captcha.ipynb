{
 "cells": [
  {
   "cell_type": "code",
   "execution_count": 5,
   "id": "7a04aad8-f4bb-47eb-9494-e118d9818bc8",
   "metadata": {},
   "outputs": [
    {
     "name": "stdout",
     "output_type": "stream",
     "text": [
      "Requirement already satisfied: captcha in c:\\users\\khushi\\appdata\\local\\programs\\python\\python311\\lib\\site-packages (0.5.0)\n",
      "Requirement already satisfied: Pillow in c:\\users\\khushi\\appdata\\local\\programs\\python\\python311\\lib\\site-packages (from captcha) (10.0.0)\n",
      "Note: you may need to restart the kernel to use updated packages.\n"
     ]
    }
   ],
   "source": [
    "pip install captcha"
   ]
  },
  {
   "cell_type": "code",
   "execution_count": 6,
   "id": "2185e632-f3f9-438b-9694-96580f486a95",
   "metadata": {},
   "outputs": [
    {
     "name": "stdin",
     "output_type": "stream",
     "text": [
      "Enter the CAPTCHA text (or leave empty for random captcha):  xyz\n"
     ]
    },
    {
     "name": "stdout",
     "output_type": "stream",
     "text": [
      "CAPTCHA image generated.\n"
     ]
    }
   ],
   "source": [
    "import random\n",
    "import string\n",
    "from captcha.image import ImageCaptcha\n",
    "\n",
    "# Function to generate a random string of given length\n",
    "def generate_random_string(length):\n",
    "    characters = string.ascii_letters + string.digits\n",
    "    return ''.join(random.choice(characters) for _ in range(length))\n",
    "\n",
    "# Create an image instance of the given size\n",
    "image = ImageCaptcha(width=280, height=90)\n",
    "\n",
    "# Get user input for captcha text\n",
    "custom_captcha_text = input(\"Enter the CAPTCHA text (or leave empty for random captcha): \")\n",
    "\n",
    "if custom_captcha_text:\n",
    "    # Generate the image of the custom text\n",
    "    data = image.generate(custom_captcha_text)\n",
    "else:\n",
    "    # Generate a random captcha text\n",
    "    captcha_length = 5\n",
    "    random_captcha_text = generate_random_string(captcha_length)\n",
    "    data = image.generate(random_captcha_text)\n",
    "    custom_captcha_text = random_captcha_text\n",
    "\n",
    "# Write the image to the file and save it\n",
    "image.write(custom_captcha_text, 'CAPTCHA.png')\n",
    "print(\"CAPTCHA image generated.\")"
   ]
  },
  {
   "cell_type": "code",
   "execution_count": 7,
   "id": "2a338a82-2ba0-44cb-ab35-137ae8a9f562",
   "metadata": {},
   "outputs": [
    {
     "name": "stdout",
     "output_type": "stream",
     "text": [
      "Requirement already satisfied: pillow in c:\\users\\khushi\\appdata\\local\\programs\\python\\python311\\lib\\site-packages (10.0.0)Note: you may need to restart the kernel to use updated packages.\n",
      "\n"
     ]
    }
   ],
   "source": [
    "pip install pillow"
   ]
  },
  {
   "cell_type": "code",
   "execution_count": 8,
   "id": "b1075397-e2d2-46b8-96fb-45cb8ea8d711",
   "metadata": {},
   "outputs": [],
   "source": [
    "from PIL import Image"
   ]
  },
  {
   "cell_type": "code",
   "execution_count": 9,
   "id": "a57bfdf5-f122-49ee-8695-7befeb8add2b",
   "metadata": {},
   "outputs": [],
   "source": [
    "img=Image.open(\"CAPTCHA.png\")\n",
    "img.show()"
   ]
  },
  {
   "cell_type": "code",
   "execution_count": 10,
   "id": "13d45d8e-2521-4e91-becb-3bd03445639d",
   "metadata": {},
   "outputs": [
    {
     "name": "stdout",
     "output_type": "stream",
     "text": [
      "Requirement already satisfied: tesseract in c:\\users\\khushi\\appdata\\local\\programs\\python\\python311\\lib\\site-packages (0.1.3)Note: you may need to restart the kernel to use updated packages.\n",
      "\n"
     ]
    }
   ],
   "source": [
    "pip install tesseract"
   ]
  },
  {
   "cell_type": "code",
   "execution_count": 11,
   "id": "988a19f6-2b6f-4c2f-8eb7-098b1f0b58b6",
   "metadata": {},
   "outputs": [
    {
     "name": "stdout",
     "output_type": "stream",
     "text": [
      "Requirement already satisfied: pytesseract in c:\\users\\khushi\\appdata\\local\\programs\\python\\python311\\lib\\site-packages (0.3.10)\n",
      "Requirement already satisfied: packaging>=21.3 in c:\\users\\khushi\\appdata\\local\\programs\\python\\python311\\lib\\site-packages (from pytesseract) (23.1)\n",
      "Requirement already satisfied: Pillow>=8.0.0 in c:\\users\\khushi\\appdata\\local\\programs\\python\\python311\\lib\\site-packages (from pytesseract) (10.0.0)\n",
      "Note: you may need to restart the kernel to use updated packages.\n"
     ]
    }
   ],
   "source": [
    "pip install pytesseract"
   ]
  },
  {
   "cell_type": "code",
   "execution_count": 12,
   "id": "405cd132-1655-4f94-ad9c-de48e3a80b8e",
   "metadata": {},
   "outputs": [],
   "source": [
    "import pytesseract"
   ]
  },
  {
   "cell_type": "code",
   "execution_count": 13,
   "id": "0528bf88-06ea-4849-950b-455011d58669",
   "metadata": {},
   "outputs": [],
   "source": [
    "pytesseract.pytesseract.tesseract_cmd = 'C:\\\\Program Files (x86)\\\\Tesseract-OCR\\\\tesseract.exe'"
   ]
  },
  {
   "cell_type": "code",
   "execution_count": 14,
   "id": "f6e5d0c2-be4d-47b0-a085-9ef8ae4fcfc2",
   "metadata": {},
   "outputs": [
    {
     "name": "stdout",
     "output_type": "stream",
     "text": [
      "Requirement already satisfied: opencv-python in c:\\users\\khushi\\appdata\\local\\programs\\python\\python311\\lib\\site-packages (4.8.0.76)\n",
      "Requirement already satisfied: numpy>=1.21.2 in c:\\users\\khushi\\appdata\\local\\programs\\python\\python311\\lib\\site-packages (from opencv-python) (1.24.4)\n",
      "Note: you may need to restart the kernel to use updated packages.\n"
     ]
    }
   ],
   "source": [
    "pip install opencv-python"
   ]
  },
  {
   "cell_type": "code",
   "execution_count": 15,
   "id": "5dd36d85-5890-4278-a30e-c2bd367ffada",
   "metadata": {},
   "outputs": [
    {
     "name": "stdout",
     "output_type": "stream",
     "text": [
      "Captcha Text is: +Y>\n",
      "\n"
     ]
    }
   ],
   "source": [
    "import cv2\n",
    "\n",
    "# Load the CAPTCHA image\n",
    "img = cv2.imread(\"CAPTCHA.png\")\n",
    "\n",
    "# Convert the image to grayscale\n",
    "gray = cv2.cvtColor(img, cv2.COLOR_BGR2GRAY)\n",
    "\n",
    "# Apply morphology operations\n",
    "closed = cv2.morphologyEx(gray, cv2.MORPH_CLOSE, None)\n",
    "\n",
    "# Apply thresholding\n",
    "_, thresholded = cv2.threshold(closed, 0, 255, cv2.THRESH_BINARY | cv2.THRESH_OTSU)\n",
    "\n",
    "# Perform OCR\n",
    "captcha_text = pytesseract.image_to_string(thresholded)\n",
    "\n",
    "print(\"Captcha Text is:\", captcha_text)"
   ]
  },
  {
   "cell_type": "code",
   "execution_count": 16,
   "id": "bbbb2cc3-c2eb-4b51-af43-d57d2b5a02e8",
   "metadata": {},
   "outputs": [
    {
     "name": "stdout",
     "output_type": "stream",
     "text": [
      "Requirement already satisfied: tk in c:\\users\\khushi\\appdata\\local\\programs\\python\\python311\\lib\\site-packages (0.1.0)\n",
      "Note: you may need to restart the kernel to use updated packages.\n"
     ]
    }
   ],
   "source": [
    "pip install tk"
   ]
  },
  {
   "cell_type": "markdown",
   "id": "3f6c5210-27f6-42c7-b0ba-8559ad63a28c",
   "metadata": {},
   "source": [
    "## CAPTCHA GENERATOR GUI USING TKINTER"
   ]
  },
  {
   "cell_type": "code",
   "execution_count": 17,
   "id": "d1d7d164-0c67-4227-a5a0-e16fdb34be2d",
   "metadata": {},
   "outputs": [],
   "source": [
    "import os\n",
    "import random\n",
    "import string\n",
    "import tkinter as tk\n",
    "from captcha.image import ImageCaptcha\n",
    "from PIL import Image, ImageTk\n",
    "\n",
    "class CaptchaGeneratorGUI:\n",
    "    def __init__(self, root):\n",
    "        self.root = root\n",
    "        self.root.title(\"CAPTCHA Generator\")\n",
    "\n",
    "        self.label = tk.Label(root, text=\"CAPTCHA Generator\", font=(\"Helvetica\", 16))\n",
    "        self.label.pack(pady=10)\n",
    "\n",
    "        self.custom_text_entry = tk.Entry(root, width=30)\n",
    "        self.custom_text_entry.pack(pady=5)\n",
    "\n",
    "        self.generate_button = tk.Button(root, text=\"Generate CAPTCHA\", command=self.generate_captcha)\n",
    "        self.generate_button.pack()\n",
    "\n",
    "        self.canvas = tk.Canvas(root, width=280, height=90)\n",
    "        self.canvas.pack()\n",
    "\n",
    "    def generate_captcha(self):\n",
    "        custom_text = self.custom_text_entry.get().strip()\n",
    "        if not custom_text:\n",
    "            captcha_length = 5\n",
    "            custom_text = self.generate_random_string(captcha_length)\n",
    "        \n",
    "        image = ImageCaptcha(width=280, height=90)\n",
    "        data = image.generate(custom_text)\n",
    "        \n",
    "        if not os.path.exists(\"captchas\"):\n",
    "            os.makedirs(\"captchas\")\n",
    "\n",
    "        image_path = os.path.join(\"captchas\", f\"{custom_text}.png\")\n",
    "        image.write(custom_text, image_path)\n",
    "\n",
    "        captcha_image = Image.open(image_path)\n",
    "        captcha_image.thumbnail((280, 90))\n",
    "        self.photo = ImageTk.PhotoImage(captcha_image)\n",
    "        self.canvas.create_image(0, 0, anchor=tk.NW, image=self.photo)\n",
    "\n",
    "    def generate_random_string(self, length):\n",
    "        characters = string.ascii_letters + string.digits\n",
    "        return ''.join(random.choice(characters) for _ in range(length))\n",
    "\n",
    "if __name__ == \"__main__\":\n",
    "    root = tk.Tk()\n",
    "    app = CaptchaGeneratorGUI(root)\n",
    "    root.mainloop()"
   ]
  },
  {
   "cell_type": "markdown",
   "id": "46c563c0-db45-4cf5-aea9-5adc57608695",
   "metadata": {},
   "source": [
    "## CAPTCHA DECODER GUI USING TKINTER"
   ]
  },
  {
   "cell_type": "code",
   "execution_count": 18,
   "id": "209360f0-8d65-4421-9926-f17ce6e778dc",
   "metadata": {},
   "outputs": [],
   "source": [
    "import cv2\n",
    "import numpy as np\n",
    "import pytesseract\n",
    "import tkinter as tk\n",
    "from tkinter import filedialog\n",
    "from PIL import Image, ImageTk\n",
    "\n",
    "class CaptchaDecoderGUI:\n",
    "    def __init__(self, root):\n",
    "        self.root = root\n",
    "        self.root.title(\"CAPTCHA Decoder\")\n",
    "\n",
    "        self.label = tk.Label(root, text=\"CAPTCHA Decoder\", font=(\"Helvetica\", 16))\n",
    "        self.label.pack(pady=10)\n",
    "\n",
    "        self.load_button = tk.Button(root, text=\"Load Image\", command=self.load_image)\n",
    "        self.load_button.pack()\n",
    "\n",
    "        self.canvas = tk.Canvas(root, width=400, height=400)\n",
    "        self.canvas.pack()\n",
    "\n",
    "        self.decode_button = tk.Button(root, text=\"Decode\", command=self.decode_captcha)\n",
    "        self.decode_button.pack()\n",
    "\n",
    "        self.result_label = tk.Label(root, text=\"\", font=(\"Helvetica\", 12))\n",
    "        self.result_label.pack(pady=10)\n",
    "\n",
    "        self.image = None\n",
    "\n",
    "    def load_image(self):\n",
    "        file_path = filedialog.askopenfilename()\n",
    "        if file_path:\n",
    "            self.image = Image.open(file_path)\n",
    "            self.image.thumbnail((400, 400))\n",
    "            self.photo = ImageTk.PhotoImage(self.image)\n",
    "            self.canvas.create_image(0, 0, anchor=tk.NW, image=self.photo)\n",
    "            self.result_label.config(text=\"\")\n",
    "    \n",
    "    def decode_captcha(self):\n",
    "        if self.image is not None:\n",
    "            # Convert PIL image to OpenCV format\n",
    "            cv_image = cv2.cvtColor(np.array(self.image), cv2.COLOR_RGB2BGR)\n",
    "            # Apply preprocessing steps\n",
    "            gray = cv2.cvtColor(cv_image, cv2.COLOR_BGR2GRAY)\n",
    "            closed = cv2.morphologyEx(gray, cv2.MORPH_CLOSE, None)\n",
    "            _, thresholded = cv2.threshold(closed, 0, 255, cv2.THRESH_BINARY | cv2.THRESH_OTSU)\n",
    "            # Perform OCR\n",
    "            captcha_text = pytesseract.image_to_string(thresholded)\n",
    "            self.result_label.config(text=\"Captcha Text: \" + captcha_text)\n",
    "\n",
    "\n",
    "if __name__ == \"__main__\":\n",
    "    root = tk.Tk()\n",
    "    app = CaptchaDecoderGUI(root)\n",
    "    root.mainloop()\n"
   ]
  }
 ],
 "metadata": {
  "kernelspec": {
   "display_name": "Python 3 (ipykernel)",
   "language": "python",
   "name": "python3"
  },
  "language_info": {
   "codemirror_mode": {
    "name": "ipython",
    "version": 3
   },
   "file_extension": ".py",
   "mimetype": "text/x-python",
   "name": "python",
   "nbconvert_exporter": "python",
   "pygments_lexer": "ipython3",
   "version": "3.11.4"
  }
 },
 "nbformat": 4,
 "nbformat_minor": 5
}
